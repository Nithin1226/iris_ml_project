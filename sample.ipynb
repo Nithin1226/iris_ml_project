{
 "cells": [
  {
   "cell_type": "code",
   "execution_count": null,
   "id": "f94cb075",
   "metadata": {},
   "outputs": [],
   "source": [
    
    "import pandas as pd\n",
    "import numpy as np\n",
    "import matplotlib.pyplot as plt\n",
    "import seaborn as sns\n",
    "import plotly.express as px\n",
    "from sklearn.model_selection import train_test_split\n",
    "from sklearn.preprocessing import LabelEncoder\n",
    "from sklearn.metrics import accuracy_score, classification_report, confusion_matrix\n",
    "from sklearn.linear_model import LogisticRegression\n",
    "from sklearn.tree import DecisionTreeClassifier\n",
    "from sklearn.neighbors import KNeighborsClassifier\n",
    "from sklearn.svm import SVC\n",
    "\n",
  
    "iris = pd.read_csv('/content/IRIS.csv')\n",
    "\n",
   
    "print(\"Dataset Shape:\", iris.shape)\n",
    "print(iris.head())\n",
    "\n",
    
    "px.scatter(iris, x='species', y='petal_width', size='petal_width', color='species')\n",
    "\n",
    
    "iris_avg = iris.groupby('species')['petal_width'].mean().reset_index()\n",
    "plt.bar(iris_avg['species'], iris_avg['petal_width'], color=['orange', 'skyblue', 'green'])\n",
    "plt.title('Average Petal Width by Species')\n",
    "plt.xlabel('Species')\n",
    "plt.ylabel('Petal Width')\n",
    "plt.show()\n",
    "\n",
    
    "sns.pairplot(iris, hue='species')\n",
    "plt.show()\n",
    "\n",
    
    "le = LabelEncoder()\n",
    "iris['species'] = le.fit_transform(iris['species'])\n",
    "\n",
    
    "X = iris.drop('species', axis=1)\n",
    "y = iris['species']\n",
    "\n",
    
    "X_train, X_test, y_train, y_test = train_test_split(X, y, test_size=0.3, random_state=42)\n",
    "\n",
   
    "models = {\n",
    "    'Logistic Regression': LogisticRegression(max_iter=200),\n",
    "    'Decision Tree': DecisionTreeClassifier(),\n",
    "    'KNN': KNeighborsClassifier(),\n",
    "    'SVM': SVC()\n",
    "}\n",
    "\n",
    
    "for name, model in models.items():\n",
    "    model.fit(X_train, y_train)\n",
    "\n",
   
    "knn = models['KNN']\n",
    "preds = knn.predict(X_test)\n",
    "\n",
   
    "accuracy = accuracy_score(y_test, preds)\n",
    "\n",
    
    "cm = confusion_matrix(y_test, preds)\n",
    "\n",
    
    "class_names = le.classes_  
    "\n",
    "print(\"\\nSample Output:\")\n",
    "print(\"\\nModel Evaluation Metrics:\\n\")\n",
    "print(f\"Accuracy: {accuracy * 100:.0f}%\")\n",
    "print(\"Confusion Matrix:\\n\")\n",
    "\n",
    "print(\"        Predicted\")\n",
    "print(\"       S  Vc  Vg\")\n",
    "for i, row in enumerate(cm):\n",
    "    print(f\"Actual {class_names[i][:2]} \", end='')\n",
    "    for val in row:\n",
    "        print(f\"{val:3}\", end=' ')\n",
    "    print()\n",
    "\n",
    "print(\"\\nClassification Report:\\n\")\n",
    "print(classification_report(y_test, preds, target_names=class_names))\n"
   ]
  }
 ],
 "metadata": {
  "kernelspec": {
   "display_name": "env",
   "language": "python",
   "name": "python3"
  },
  "language_info": {
   "name": "python",
   "version": "3.13.5"
  }
 },
 "nbformat": 4,
 "nbformat_minor": 5
}
